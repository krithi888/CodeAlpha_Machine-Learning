{
  "nbformat": 4,
  "nbformat_minor": 0,
  "metadata": {
    "colab": {
      "provenance": []
    },
    "kernelspec": {
      "name": "python3",
      "display_name": "Python 3"
    },
    "language_info": {
      "name": "python"
    }
  },
  "cells": [
    {
      "cell_type": "code",
      "execution_count": 6,
      "metadata": {
        "colab": {
          "base_uri": "https://localhost:8080/"
        },
        "id": "f14lz9-9wBGE",
        "outputId": "ed5653c3-07d4-411b-dc57-3d6797820857"
      },
      "outputs": [
        {
          "output_type": "stream",
          "name": "stdout",
          "text": [
            "Accuracy: 30.00%\n",
            "                     precision    recall  f1-score   support\n",
            "\n",
            "           business       0.21      0.17      0.19        18\n",
            "                car       0.35      0.37      0.36        63\n",
            "domestic appliances       0.00      0.00      0.00         1\n",
            "          education       0.07      0.07      0.07        15\n",
            "furniture/equipment       0.29      0.25      0.27        44\n",
            "           radio/TV       0.35      0.41      0.38        54\n",
            "            repairs       0.00      0.00      0.00         3\n",
            "    vacation/others       0.00      0.00      0.00         2\n",
            "\n",
            "           accuracy                           0.30       200\n",
            "          macro avg       0.16      0.16      0.16       200\n",
            "       weighted avg       0.29      0.30      0.29       200\n",
            "\n",
            "[[ 3  4  0  3  3  5  0  0]\n",
            " [ 4 23  1  4 14 17  0  0]\n",
            " [ 0  1  0  0  0  0  0  0]\n",
            " [ 0  5  1  1  1  6  0  1]\n",
            " [ 3 18  0  1 11 11  0  0]\n",
            " [ 4 13  0  4  9 22  2  0]\n",
            " [ 0  1  0  0  0  2  0  0]\n",
            " [ 0  1  0  1  0  0  0  0]]\n"
          ]
        }
      ],
      "source": [
        "# Import necessary libraries\n",
        "import pandas as pd\n",
        "import numpy as np\n",
        "from sklearn.model_selection import train_test_split\n",
        "from sklearn.preprocessing import StandardScaler, OneHotEncoder\n",
        "from sklearn.compose import ColumnTransformer\n",
        "from sklearn.pipeline import Pipeline\n",
        "from sklearn.ensemble import RandomForestClassifier\n",
        "from sklearn.metrics import accuracy_score, classification_report, confusion_matrix\n",
        "\n",
        "# Load dataset\n",
        "data = pd.read_csv('/srv/german_credit_data.csv')  # Replace with your dataset path\n",
        "\n",
        "# Data Preprocessing\n",
        "# Define features and target variable\n",
        "X = data.drop('Purpose', axis=1)  # Replace 'creditworthy' with your target column\n",
        "y = data['Purpose']\n",
        "\n",
        "# Split the data\n",
        "X_train, X_test, y_train, y_test = train_test_split(X, y, test_size=0.2, random_state=42)\n",
        "\n",
        "# Preprocessing pipeline\n",
        "numeric_features = ['Credit amount', 'Duration']  # Replace with your numeric features\n",
        "categorical_features = ['Sex', 'Housing']  # Replace with your categorical features\n",
        "\n",
        "# Create preprocessing pipelines\n",
        "numeric_transformer = Pipeline(steps=[\n",
        "    ('scaler', StandardScaler())\n",
        "])\n",
        "\n",
        "categorical_transformer = Pipeline(steps=[\n",
        "    ('onehot', OneHotEncoder(handle_unknown='ignore'))\n",
        "])\n",
        "\n",
        "preprocessor = ColumnTransformer(\n",
        "    transformers=[\n",
        "        ('num', numeric_transformer, numeric_features),\n",
        "        ('cat', categorical_transformer, categorical_features)\n",
        "    ])\n",
        "\n",
        "# Create a pipeline that combines preprocessing and model\n",
        "model = Pipeline(steps=[\n",
        "    ('preprocessor', preprocessor),\n",
        "    ('classifier', RandomForestClassifier(random_state=42))\n",
        "])\n",
        "\n",
        "# Train the model\n",
        "model.fit(X_train, y_train)\n",
        "\n",
        "# Make predictions\n",
        "y_pred = model.predict(X_test)\n",
        "\n",
        "# Evaluate the model\n",
        "accuracy = accuracy_score(y_test, y_pred)\n",
        "print(\"Accuracy: {:.2f}%\".format(accuracy * 100))\n",
        "print(classification_report(y_test, y_pred))\n",
        "print(confusion_matrix(y_test, y_pred))"
      ]
    }
  ]
}